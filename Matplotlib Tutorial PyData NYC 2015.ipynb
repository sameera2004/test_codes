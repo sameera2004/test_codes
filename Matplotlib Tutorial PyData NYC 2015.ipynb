{
 "cells": [
  {
   "cell_type": "markdown",
   "metadata": {},
   "source": [
    "# Matplotlib Tutorial pyData NYC 2015"
   ]
  },
  {
   "cell_type": "code",
   "execution_count": 1,
   "metadata": {
    "collapsed": false
   },
   "outputs": [],
   "source": [
    "import matplotlib.pyplot as plt\n",
    "import numpy as np\n",
    "%matplotlib qt"
   ]
  },
  {
   "cell_type": "code",
   "execution_count": null,
   "metadata": {
    "collapsed": false
   },
   "outputs": [],
   "source": [
    "# Numbers 0 - 256\n",
    "X = np.linspace(-np.pi, np.pi, 256, endpoint=True)\n",
    "# cosine(X), sin(X)\n",
    "C, S = np.cos(X), np.sin(X)\n",
    "\n",
    "line1, = plt.plot(X, C)\n",
    "line2, = plt.plot(X, S)\n",
    "\n",
    "plt.show()"
   ]
  },
  {
   "cell_type": "markdown",
   "metadata": {},
   "source": [
    "### Change the color and width"
   ]
  },
  {
   "cell_type": "code",
   "execution_count": null,
   "metadata": {
    "collapsed": true
   },
   "outputs": [],
   "source": [
    "line1.set_color('blue')\n",
    "line2.set_color('red')\n",
    "\n",
    "line1.set_linewidth(2.5)\n",
    "line2.set_linewidth(2.5)\n",
    "\n",
    "# You could also set these at creation time:\n",
    "plt.plot(X, C, color=\"blue\", linewidth=2.5)\n",
    "plt.plot(X, S, color=\"red\",  linewidth=2.5)\n",
    "plt.show()"
   ]
  },
  {
   "cell_type": "markdown",
   "metadata": {},
   "source": [
    "### Set limits"
   ]
  },
  {
   "cell_type": "code",
   "execution_count": null,
   "metadata": {
    "collapsed": true
   },
   "outputs": [],
   "source": [
    "plt.xlim(X.min()*1.1, X.max()*1.1)\n",
    "plt.ylim(C.min()*1.1, C.max()*1.1)\n",
    "plt.show()"
   ]
  },
  {
   "cell_type": "markdown",
   "metadata": {},
   "source": [
    "### set tick labels"
   ]
  },
  {
   "cell_type": "code",
   "execution_count": null,
   "metadata": {
    "collapsed": true
   },
   "outputs": [],
   "source": [
    "plt.xticks( [-np.pi, -np.pi/2, 0, np.pi/2, np.pi])\n",
    "plt.yticks([-1, 0, +1])\n",
    "plt.show()"
   ]
  },
  {
   "cell_type": "code",
   "execution_count": null,
   "metadata": {
    "collapsed": true
   },
   "outputs": [],
   "source": [
    "plt.xticks([-np.pi, -np.pi/2, 0, np.pi/2, np.pi],\n",
    "       [r'$-\\pi$', r'$-\\pi/2$', r'$0$', r'$+\\pi/2$', r'$+\\pi$'])\n",
    "\n",
    "plt.yticks([-1, 0, +1],\n",
    "       [r'$-1$', r'$0$', r'$+1$'])\n",
    "plt.show()"
   ]
  },
  {
   "cell_type": "code",
   "execution_count": null,
   "metadata": {
    "collapsed": true
   },
   "outputs": [],
   "source": [
    "ax = plt.gca() ### gca is get current axis\n",
    "ax.spines['right'].set_visible(False)\n",
    "ax.spines['top'].set_visible(False)\n",
    "ax.xaxis.set_ticks_position('bottom')\n",
    "ax.spines['bottom'].set_position(('data',0))\n",
    "ax.yaxis.set_ticks_position('left')\n",
    "ax.spines['left'].set_position(('data',0))\n",
    "plt.show()\n"
   ]
  },
  {
   "cell_type": "code",
   "execution_count": null,
   "metadata": {
    "collapsed": true
   },
   "outputs": [],
   "source": [
    "line1.set_label(\"cosine\")\n",
    "line2.set_label(\"sine\")\n",
    "\n",
    "plt.legend(loc=\"upper left\", frameon=False)\n",
    "plt.show()"
   ]
  },
  {
   "cell_type": "code",
   "execution_count": null,
   "metadata": {
    "collapsed": true
   },
   "outputs": [],
   "source": [
    "t = 2*np.pi/3\n",
    "plt.plot([t,t],[0,np.cos(t)], color ='blue', linewidth=2.5, linestyle=\"--\")\n",
    "plt.scatter([t,],[np.cos(t),], 50, color ='blue')\n",
    "\n",
    "plt.annotate(r'$\\sin(\\frac{2\\pi}{3})=\\frac{\\sqrt{3}}{2}$',\n",
    "             xy=(t, np.sin(t)), xycoords='data',\n",
    "             xytext=(+10, +30), textcoords='offset points', fontsize=16,\n",
    "             arrowprops=dict(arrowstyle=\"->\", connectionstyle=\"arc3,rad=.2\"))\n",
    "\n",
    "plt.plot([t,t],[0,np.sin(t)], color ='red', linewidth=2.5, linestyle=\"--\")\n",
    "plt.scatter([t,],[np.sin(t),], 50, color ='red')\n",
    "\n",
    "plt.annotate(r'$\\cos(\\frac{2\\pi}{3})=-\\frac{1}{2}$',\n",
    "             xy=(t, np.cos(t)), xycoords='data',\n",
    "             xytext=(-90, -50), textcoords='offset points', fontsize=16,\n",
    "             arrowprops=dict(arrowstyle=\"->\", connectionstyle=\"arc3,rad=.2\"))\n",
    "plt.show()"
   ]
  },
  {
   "cell_type": "code",
   "execution_count": null,
   "metadata": {
    "collapsed": false
   },
   "outputs": [],
   "source": [
    "from matplotlib import style\n",
    "style.available"
   ]
  },
  {
   "cell_type": "code",
   "execution_count": null,
   "metadata": {
    "collapsed": false
   },
   "outputs": [],
   "source": [
    "style.use('ggplot')\n",
    "plt.figure()\n",
    "plt.plot(X, C)\n",
    "plt.plot(X, S)\n",
    "plt.show()"
   ]
  },
  {
   "cell_type": "code",
   "execution_count": null,
   "metadata": {
    "collapsed": true
   },
   "outputs": [],
   "source": [
    "style.use('fivethirtyeight')\n",
    "plt.figure()\n",
    "plt.plot(X, C)\n",
    "plt.plot(X, S)\n",
    "plt.show()"
   ]
  },
  {
   "cell_type": "code",
   "execution_count": null,
   "metadata": {
    "collapsed": true
   },
   "outputs": [],
   "source": [
    "## contense manager"
   ]
  },
  {
   "cell_type": "code",
   "execution_count": null,
   "metadata": {
    "collapsed": true
   },
   "outputs": [],
   "source": [
    "# Reset to defaults (more obvious method coming in matplotlib 1.5)\n",
    "import matplotlib\n",
    "matplotlib.rcdefaults()"
   ]
  },
  {
   "cell_type": "code",
   "execution_count": null,
   "metadata": {
    "collapsed": true
   },
   "outputs": [],
   "source": [
    "plt.figure()\n",
    "plt.subplot(2, 1, 1)\n",
    "plt.subplot(2, 1, 2)\n",
    "plt.show()"
   ]
  },
  {
   "cell_type": "code",
   "execution_count": null,
   "metadata": {
    "collapsed": true
   },
   "outputs": [],
   "source": [
    "plt.figure()\n",
    "plt.subplot(1, 2, 1)\n",
    "plt.subplot(1, 2, 2)\n",
    "plt.show()"
   ]
  },
  {
   "cell_type": "code",
   "execution_count": null,
   "metadata": {
    "collapsed": true
   },
   "outputs": [],
   "source": [
    "plt.figure()\n",
    "plt.axes([0.1, 0.1, 0.8, 0.8])\n",
    "plt.axes([0.2, 0.2, 0.3, 0.3])\n",
    "plt.show()"
   ]
  },
  {
   "cell_type": "code",
   "execution_count": null,
   "metadata": {
    "collapsed": true
   },
   "outputs": [],
   "source": [
    "plt.figure()\n",
    "plt.axes([0.1, 0.1, 0.5, 0.5])\n",
    "plt.axes([0.2, 0.2, 0.5, 0.5])\n",
    "plt.axes([0.3, 0.3, 0.5, 0.5])\n",
    "plt.axes([0.4, 0.4, 0.5, 0.5])\n",
    "plt.show()\n"
   ]
  },
  {
   "cell_type": "code",
   "execution_count": 2,
   "metadata": {
    "collapsed": true
   },
   "outputs": [],
   "source": [
    "from matplotlib import pyplot as plt\n",
    "import numpy as np\n",
    "\n",
    "# New figure with white background\n",
    "fig = plt.figure(figsize=(6,6), facecolor='white')\n",
    "\n",
    "# New axis over the whole figure, no frame and a 1:1 aspect ratio\n",
    "ax = fig.add_axes([0,0,1,1], frameon=False, aspect=1)"
   ]
  },
  {
   "cell_type": "code",
   "execution_count": 8,
   "metadata": {
    "collapsed": false
   },
   "outputs": [
    {
     "data": {
      "text/plain": [
       "((0, 1), [])"
      ]
     },
     "execution_count": 8,
     "metadata": {},
     "output_type": "execute_result"
    }
   ],
   "source": [
    "# Number of ring\n",
    "n = 50\n",
    "size_min = 50\n",
    "size_max = 50*50\n",
    "\n",
    "# Ring position\n",
    "P = np.random.uniform(0,1,(n,2))\n",
    "\n",
    "# Ring colors\n",
    "C = np.ones((n,4)) * (0,0,0,1)\n",
    "# Alpha color channel goes from 0 (transparent) to 1 (opaque)\n",
    "C[:,3] = np.linspace(0,1,n)\n",
    "\n",
    "# Ring sizes\n",
    "S = np.linspace(size_min, size_max, n)\n",
    "\n",
    "# Scatter plot\n",
    "scat = ax.scatter(P[:,0], P[:,1], s=S, lw = 0.5,\n",
    "                  edgecolors = C, facecolors='None')\n",
    "\n",
    "# Ensure limits are [0,1] and remove ticks\n",
    "ax.set_xlim(0,1), ax.set_xticks([])\n",
    "ax.set_ylim(0,1), ax.set_yticks([])"
   ]
  },
  {
   "cell_type": "code",
   "execution_count": 9,
   "metadata": {
    "collapsed": true
   },
   "outputs": [],
   "source": [
    "def update(frame):\n",
    "    global P, C, S\n",
    "\n",
    "    # Every ring is made more transparent\n",
    "    C[:,3] = np.maximum(0, C[:,3] - 1.0/n)\n",
    "\n",
    "    # Each ring is made larger\n",
    "    S += (size_max - size_min) / n\n",
    "\n",
    "    # Reset ring specific ring (relative to frame number)\n",
    "    i = frame % 50\n",
    "    P[i] = np.random.uniform(0,1,2)\n",
    "    S[i] = size_min\n",
    "    C[i,3] = 1\n",
    "\n",
    "    # Update scatter object\n",
    "    scat.set_edgecolors(C)\n",
    "    scat.set_sizes(S)\n",
    "    scat.set_offsets(P)\n",
    "\n",
    "    # Return the modified object\n",
    "    return scat,"
   ]
  },
  {
   "cell_type": "code",
   "execution_count": 10,
   "metadata": {
    "collapsed": false
   },
   "outputs": [],
   "source": [
    "from matplotlib.animation import FuncAnimation\n",
    "animation = FuncAnimation(fig, update, interval=10, blit=True, frames=200)\n",
    "# animation.save('rain.gif', writer='imagemagick', fps=30, dpi=40)\n",
    "plt.show()"
   ]
  },
  {
   "cell_type": "code",
   "execution_count": 13,
   "metadata": {
    "collapsed": false
   },
   "outputs": [
    {
     "data": {
      "text/plain": [
       "'1.5.dev1'"
      ]
     },
     "execution_count": 13,
     "metadata": {},
     "output_type": "execute_result"
    }
   ],
   "source": [
    "import matplotlib\n",
    "matplotlib.__version__"
   ]
  },
  {
   "cell_type": "code",
   "execution_count": 16,
   "metadata": {
    "collapsed": true
   },
   "outputs": [],
   "source": [
    "import numpy as np\n",
    "import matplotlib.pyplot as plt\n",
    "from mpl_toolkits.mplot3d import Axes3D\n",
    "import matplotlib.tri as mtri\n",
    "\n",
    "# u, v are parameterisation variables\n",
    "u = (np.linspace(0, 2.0 * np.pi, endpoint=True, num=50) * np.ones((10, 1))).flatten()\n",
    "v = np.repeat(np.linspace(-0.5, 0.5, endpoint=True, num=10), repeats=50).flatten()\n",
    "\n",
    "# This is the Mobius mapping, taking a u, v pair and returning an x, y, z\n",
    "# triple\n",
    "x = (1 + 0.5 * v * np.cos(u / 2.0)) * np.cos(u)\n",
    "y = (1 + 0.5 * v * np.cos(u / 2.0)) * np.sin(u)\n",
    "z = 0.5 * v * np.sin(u / 2.0)\n",
    "\n",
    "# Triangulate parameter space to determine the triangles\n",
    "tri = mtri.Triangulation(u, v)\n",
    "\n",
    "fig = plt.figure()\n",
    "ax = fig.add_subplot(1, 1, 1, projection='3d')\n",
    "\n",
    "# The triangles in parameter space determine which x, y, z points are\n",
    "# connected by an edge\n",
    "ax.plot_trisurf(x, y, z, triangles=tri.triangles, cmap=plt.cm.CMRmap)\n",
    "ax.set_zlim(-1, 1)\n",
    "plt.show()"
   ]
  },
  {
   "cell_type": "code",
   "execution_count": 17,
   "metadata": {
    "collapsed": false
   },
   "outputs": [
    {
     "name": "stderr",
     "output_type": "stream",
     "text": [
      "/Users/sameera/mc/envs/py3k/lib/python3.4/site-packages/matplotlib/collections.py:356: UserWarning: Collection picker None could not be converted to float\n",
      "  % self._picker)\n"
     ]
    },
    {
     "ename": "RuntimeError",
     "evalue": "LaTeX was not able to process the following string:\nb'lp'\nHere is the full report generated by LaTeX: \n\n",
     "output_type": "error",
     "traceback": [
      "\u001b[0;31m---------------------------------------------------------------------------\u001b[0m",
      "\u001b[0;31mRuntimeError\u001b[0m                              Traceback (most recent call last)",
      "\u001b[0;32m/Users/sameera/mc/envs/py3k/lib/python3.4/site-packages/matplotlib/backends/backend_qt5.py\u001b[0m in \u001b[0;36mresizeEvent\u001b[0;34m(self, event)\u001b[0m\n\u001b[1;32m    341\u001b[0m         \u001b[0mself\u001b[0m\u001b[0;34m.\u001b[0m\u001b[0mfigure\u001b[0m\u001b[0;34m.\u001b[0m\u001b[0mset_size_inches\u001b[0m\u001b[0;34m(\u001b[0m\u001b[0mwinch\u001b[0m\u001b[0;34m,\u001b[0m \u001b[0mhinch\u001b[0m\u001b[0;34m)\u001b[0m\u001b[0;34m\u001b[0m\u001b[0m\n\u001b[1;32m    342\u001b[0m         \u001b[0mFigureCanvasBase\u001b[0m\u001b[0;34m.\u001b[0m\u001b[0mresize_event\u001b[0m\u001b[0;34m(\u001b[0m\u001b[0mself\u001b[0m\u001b[0;34m)\u001b[0m\u001b[0;34m\u001b[0m\u001b[0m\n\u001b[0;32m--> 343\u001b[0;31m         \u001b[0mself\u001b[0m\u001b[0;34m.\u001b[0m\u001b[0mdraw\u001b[0m\u001b[0;34m(\u001b[0m\u001b[0;34m)\u001b[0m\u001b[0;34m\u001b[0m\u001b[0m\n\u001b[0m\u001b[1;32m    344\u001b[0m         \u001b[0mself\u001b[0m\u001b[0;34m.\u001b[0m\u001b[0mupdate\u001b[0m\u001b[0;34m(\u001b[0m\u001b[0;34m)\u001b[0m\u001b[0;34m\u001b[0m\u001b[0m\n\u001b[1;32m    345\u001b[0m         \u001b[0mQtWidgets\u001b[0m\u001b[0;34m.\u001b[0m\u001b[0mQWidget\u001b[0m\u001b[0;34m.\u001b[0m\u001b[0mresizeEvent\u001b[0m\u001b[0;34m(\u001b[0m\u001b[0mself\u001b[0m\u001b[0;34m,\u001b[0m \u001b[0mevent\u001b[0m\u001b[0;34m)\u001b[0m\u001b[0;34m\u001b[0m\u001b[0m\n",
      "\u001b[0;32m/Users/sameera/mc/envs/py3k/lib/python3.4/site-packages/matplotlib/backends/backend_qt5agg.py\u001b[0m in \u001b[0;36mdraw\u001b[0;34m(self)\u001b[0m\n\u001b[1;32m    146\u001b[0m         \u001b[0;31m# causes problems with code that uses the result of the\u001b[0m\u001b[0;34m\u001b[0m\u001b[0;34m\u001b[0m\u001b[0m\n\u001b[1;32m    147\u001b[0m         \u001b[0;31m# draw() to update plot elements.\u001b[0m\u001b[0;34m\u001b[0m\u001b[0;34m\u001b[0m\u001b[0m\n\u001b[0;32m--> 148\u001b[0;31m         \u001b[0mFigureCanvasAgg\u001b[0m\u001b[0;34m.\u001b[0m\u001b[0mdraw\u001b[0m\u001b[0;34m(\u001b[0m\u001b[0mself\u001b[0m\u001b[0;34m)\u001b[0m\u001b[0;34m\u001b[0m\u001b[0m\n\u001b[0m\u001b[1;32m    149\u001b[0m         \u001b[0mself\u001b[0m\u001b[0;34m.\u001b[0m\u001b[0m_priv_update\u001b[0m\u001b[0;34m(\u001b[0m\u001b[0;34m)\u001b[0m\u001b[0;34m\u001b[0m\u001b[0m\n\u001b[1;32m    150\u001b[0m \u001b[0;34m\u001b[0m\u001b[0m\n",
      "\u001b[0;32m/Users/sameera/mc/envs/py3k/lib/python3.4/site-packages/matplotlib/backends/backend_agg.py\u001b[0m in \u001b[0;36mdraw\u001b[0;34m(self)\u001b[0m\n\u001b[1;32m    473\u001b[0m \u001b[0;34m\u001b[0m\u001b[0m\n\u001b[1;32m    474\u001b[0m         \u001b[0;32mtry\u001b[0m\u001b[0;34m:\u001b[0m\u001b[0;34m\u001b[0m\u001b[0m\n\u001b[0;32m--> 475\u001b[0;31m             \u001b[0mself\u001b[0m\u001b[0;34m.\u001b[0m\u001b[0mfigure\u001b[0m\u001b[0;34m.\u001b[0m\u001b[0mdraw\u001b[0m\u001b[0;34m(\u001b[0m\u001b[0mself\u001b[0m\u001b[0;34m.\u001b[0m\u001b[0mrenderer\u001b[0m\u001b[0;34m)\u001b[0m\u001b[0;34m\u001b[0m\u001b[0m\n\u001b[0m\u001b[1;32m    476\u001b[0m         \u001b[0;32mfinally\u001b[0m\u001b[0;34m:\u001b[0m\u001b[0;34m\u001b[0m\u001b[0m\n\u001b[1;32m    477\u001b[0m             \u001b[0mRendererAgg\u001b[0m\u001b[0;34m.\u001b[0m\u001b[0mlock\u001b[0m\u001b[0;34m.\u001b[0m\u001b[0mrelease\u001b[0m\u001b[0;34m(\u001b[0m\u001b[0;34m)\u001b[0m\u001b[0;34m\u001b[0m\u001b[0m\n",
      "\u001b[0;32m/Users/sameera/mc/envs/py3k/lib/python3.4/site-packages/matplotlib/artist.py\u001b[0m in \u001b[0;36mdraw_wrapper\u001b[0;34m(artist, renderer, *args, **kwargs)\u001b[0m\n\u001b[1;32m     58\u001b[0m     \u001b[0;32mdef\u001b[0m \u001b[0mdraw_wrapper\u001b[0m\u001b[0;34m(\u001b[0m\u001b[0martist\u001b[0m\u001b[0;34m,\u001b[0m \u001b[0mrenderer\u001b[0m\u001b[0;34m,\u001b[0m \u001b[0;34m*\u001b[0m\u001b[0margs\u001b[0m\u001b[0;34m,\u001b[0m \u001b[0;34m**\u001b[0m\u001b[0mkwargs\u001b[0m\u001b[0;34m)\u001b[0m\u001b[0;34m:\u001b[0m\u001b[0;34m\u001b[0m\u001b[0m\n\u001b[1;32m     59\u001b[0m         \u001b[0mbefore\u001b[0m\u001b[0;34m(\u001b[0m\u001b[0martist\u001b[0m\u001b[0;34m,\u001b[0m \u001b[0mrenderer\u001b[0m\u001b[0;34m)\u001b[0m\u001b[0;34m\u001b[0m\u001b[0m\n\u001b[0;32m---> 60\u001b[0;31m         \u001b[0mdraw\u001b[0m\u001b[0;34m(\u001b[0m\u001b[0martist\u001b[0m\u001b[0;34m,\u001b[0m \u001b[0mrenderer\u001b[0m\u001b[0;34m,\u001b[0m \u001b[0;34m*\u001b[0m\u001b[0margs\u001b[0m\u001b[0;34m,\u001b[0m \u001b[0;34m**\u001b[0m\u001b[0mkwargs\u001b[0m\u001b[0;34m)\u001b[0m\u001b[0;34m\u001b[0m\u001b[0m\n\u001b[0m\u001b[1;32m     61\u001b[0m         \u001b[0mafter\u001b[0m\u001b[0;34m(\u001b[0m\u001b[0martist\u001b[0m\u001b[0;34m,\u001b[0m \u001b[0mrenderer\u001b[0m\u001b[0;34m)\u001b[0m\u001b[0;34m\u001b[0m\u001b[0m\n\u001b[1;32m     62\u001b[0m \u001b[0;34m\u001b[0m\u001b[0m\n",
      "\u001b[0;32m/Users/sameera/mc/envs/py3k/lib/python3.4/site-packages/matplotlib/figure.py\u001b[0m in \u001b[0;36mdraw\u001b[0;34m(self, renderer)\u001b[0m\n\u001b[1;32m   1120\u001b[0m         \u001b[0mdsu\u001b[0m\u001b[0;34m.\u001b[0m\u001b[0msort\u001b[0m\u001b[0;34m(\u001b[0m\u001b[0mkey\u001b[0m\u001b[0;34m=\u001b[0m\u001b[0mitemgetter\u001b[0m\u001b[0;34m(\u001b[0m\u001b[0;36m0\u001b[0m\u001b[0;34m)\u001b[0m\u001b[0;34m)\u001b[0m\u001b[0;34m\u001b[0m\u001b[0m\n\u001b[1;32m   1121\u001b[0m         \u001b[0;32mfor\u001b[0m \u001b[0mzorder\u001b[0m\u001b[0;34m,\u001b[0m \u001b[0ma\u001b[0m\u001b[0;34m,\u001b[0m \u001b[0mfunc\u001b[0m\u001b[0;34m,\u001b[0m \u001b[0margs\u001b[0m \u001b[0;32min\u001b[0m \u001b[0mdsu\u001b[0m\u001b[0;34m:\u001b[0m\u001b[0;34m\u001b[0m\u001b[0m\n\u001b[0;32m-> 1122\u001b[0;31m             \u001b[0mfunc\u001b[0m\u001b[0;34m(\u001b[0m\u001b[0;34m*\u001b[0m\u001b[0margs\u001b[0m\u001b[0;34m)\u001b[0m\u001b[0;34m\u001b[0m\u001b[0m\n\u001b[0m\u001b[1;32m   1123\u001b[0m             \u001b[0ma\u001b[0m\u001b[0;34m.\u001b[0m\u001b[0mstale\u001b[0m \u001b[0;34m=\u001b[0m \u001b[0;32mFalse\u001b[0m\u001b[0;34m\u001b[0m\u001b[0m\n\u001b[1;32m   1124\u001b[0m \u001b[0;34m\u001b[0m\u001b[0m\n",
      "\u001b[0;32m/Users/sameera/mc/envs/py3k/lib/python3.4/site-packages/matplotlib/artist.py\u001b[0m in \u001b[0;36mdraw_wrapper\u001b[0;34m(artist, renderer, *args, **kwargs)\u001b[0m\n\u001b[1;32m     58\u001b[0m     \u001b[0;32mdef\u001b[0m \u001b[0mdraw_wrapper\u001b[0m\u001b[0;34m(\u001b[0m\u001b[0martist\u001b[0m\u001b[0;34m,\u001b[0m \u001b[0mrenderer\u001b[0m\u001b[0;34m,\u001b[0m \u001b[0;34m*\u001b[0m\u001b[0margs\u001b[0m\u001b[0;34m,\u001b[0m \u001b[0;34m**\u001b[0m\u001b[0mkwargs\u001b[0m\u001b[0;34m)\u001b[0m\u001b[0;34m:\u001b[0m\u001b[0;34m\u001b[0m\u001b[0m\n\u001b[1;32m     59\u001b[0m         \u001b[0mbefore\u001b[0m\u001b[0;34m(\u001b[0m\u001b[0martist\u001b[0m\u001b[0;34m,\u001b[0m \u001b[0mrenderer\u001b[0m\u001b[0;34m)\u001b[0m\u001b[0;34m\u001b[0m\u001b[0m\n\u001b[0;32m---> 60\u001b[0;31m         \u001b[0mdraw\u001b[0m\u001b[0;34m(\u001b[0m\u001b[0martist\u001b[0m\u001b[0;34m,\u001b[0m \u001b[0mrenderer\u001b[0m\u001b[0;34m,\u001b[0m \u001b[0;34m*\u001b[0m\u001b[0margs\u001b[0m\u001b[0;34m,\u001b[0m \u001b[0;34m**\u001b[0m\u001b[0mkwargs\u001b[0m\u001b[0;34m)\u001b[0m\u001b[0;34m\u001b[0m\u001b[0m\n\u001b[0m\u001b[1;32m     61\u001b[0m         \u001b[0mafter\u001b[0m\u001b[0;34m(\u001b[0m\u001b[0martist\u001b[0m\u001b[0;34m,\u001b[0m \u001b[0mrenderer\u001b[0m\u001b[0;34m)\u001b[0m\u001b[0;34m\u001b[0m\u001b[0m\n\u001b[1;32m     62\u001b[0m \u001b[0;34m\u001b[0m\u001b[0m\n",
      "\u001b[0;32m/Users/sameera/mc/envs/py3k/lib/python3.4/site-packages/matplotlib/axes/_base.py\u001b[0m in \u001b[0;36mdraw\u001b[0;34m(self, renderer, inframe)\u001b[0m\n\u001b[1;32m   2165\u001b[0m \u001b[0;34m\u001b[0m\u001b[0m\n\u001b[1;32m   2166\u001b[0m         \u001b[0;32mfor\u001b[0m \u001b[0mzorder\u001b[0m\u001b[0;34m,\u001b[0m \u001b[0ma\u001b[0m \u001b[0;32min\u001b[0m \u001b[0mdsu\u001b[0m\u001b[0;34m:\u001b[0m\u001b[0;34m\u001b[0m\u001b[0m\n\u001b[0;32m-> 2167\u001b[0;31m             \u001b[0ma\u001b[0m\u001b[0;34m.\u001b[0m\u001b[0mdraw\u001b[0m\u001b[0;34m(\u001b[0m\u001b[0mrenderer\u001b[0m\u001b[0;34m)\u001b[0m\u001b[0;34m\u001b[0m\u001b[0m\n\u001b[0m\u001b[1;32m   2168\u001b[0m \u001b[0;34m\u001b[0m\u001b[0m\n\u001b[1;32m   2169\u001b[0m         \u001b[0mrenderer\u001b[0m\u001b[0;34m.\u001b[0m\u001b[0mclose_group\u001b[0m\u001b[0;34m(\u001b[0m\u001b[0;34m'axes'\u001b[0m\u001b[0;34m)\u001b[0m\u001b[0;34m\u001b[0m\u001b[0m\n",
      "\u001b[0;32m/Users/sameera/mc/envs/py3k/lib/python3.4/site-packages/matplotlib/artist.py\u001b[0m in \u001b[0;36mdraw_wrapper\u001b[0;34m(artist, renderer, *args, **kwargs)\u001b[0m\n\u001b[1;32m     58\u001b[0m     \u001b[0;32mdef\u001b[0m \u001b[0mdraw_wrapper\u001b[0m\u001b[0;34m(\u001b[0m\u001b[0martist\u001b[0m\u001b[0;34m,\u001b[0m \u001b[0mrenderer\u001b[0m\u001b[0;34m,\u001b[0m \u001b[0;34m*\u001b[0m\u001b[0margs\u001b[0m\u001b[0;34m,\u001b[0m \u001b[0;34m**\u001b[0m\u001b[0mkwargs\u001b[0m\u001b[0;34m)\u001b[0m\u001b[0;34m:\u001b[0m\u001b[0;34m\u001b[0m\u001b[0m\n\u001b[1;32m     59\u001b[0m         \u001b[0mbefore\u001b[0m\u001b[0;34m(\u001b[0m\u001b[0martist\u001b[0m\u001b[0;34m,\u001b[0m \u001b[0mrenderer\u001b[0m\u001b[0;34m)\u001b[0m\u001b[0;34m\u001b[0m\u001b[0m\n\u001b[0;32m---> 60\u001b[0;31m         \u001b[0mdraw\u001b[0m\u001b[0;34m(\u001b[0m\u001b[0martist\u001b[0m\u001b[0;34m,\u001b[0m \u001b[0mrenderer\u001b[0m\u001b[0;34m,\u001b[0m \u001b[0;34m*\u001b[0m\u001b[0margs\u001b[0m\u001b[0;34m,\u001b[0m \u001b[0;34m**\u001b[0m\u001b[0mkwargs\u001b[0m\u001b[0;34m)\u001b[0m\u001b[0;34m\u001b[0m\u001b[0m\n\u001b[0m\u001b[1;32m     61\u001b[0m         \u001b[0mafter\u001b[0m\u001b[0;34m(\u001b[0m\u001b[0martist\u001b[0m\u001b[0;34m,\u001b[0m \u001b[0mrenderer\u001b[0m\u001b[0;34m)\u001b[0m\u001b[0;34m\u001b[0m\u001b[0m\n\u001b[1;32m     62\u001b[0m \u001b[0;34m\u001b[0m\u001b[0m\n",
      "\u001b[0;32m/Users/sameera/mc/envs/py3k/lib/python3.4/site-packages/matplotlib/axis.py\u001b[0m in \u001b[0;36mdraw\u001b[0;34m(self, renderer, *args, **kwargs)\u001b[0m\n\u001b[1;32m   1106\u001b[0m         \u001b[0mticks_to_draw\u001b[0m \u001b[0;34m=\u001b[0m \u001b[0mself\u001b[0m\u001b[0;34m.\u001b[0m\u001b[0m_update_ticks\u001b[0m\u001b[0;34m(\u001b[0m\u001b[0mrenderer\u001b[0m\u001b[0;34m)\u001b[0m\u001b[0;34m\u001b[0m\u001b[0m\n\u001b[1;32m   1107\u001b[0m         ticklabelBoxes, ticklabelBoxes2 = self._get_tick_bboxes(ticks_to_draw,\n\u001b[0;32m-> 1108\u001b[0;31m                                                                 renderer)\n\u001b[0m\u001b[1;32m   1109\u001b[0m \u001b[0;34m\u001b[0m\u001b[0m\n\u001b[1;32m   1110\u001b[0m         \u001b[0;32mfor\u001b[0m \u001b[0mtick\u001b[0m \u001b[0;32min\u001b[0m \u001b[0mticks_to_draw\u001b[0m\u001b[0;34m:\u001b[0m\u001b[0;34m\u001b[0m\u001b[0m\n",
      "\u001b[0;32m/Users/sameera/mc/envs/py3k/lib/python3.4/site-packages/matplotlib/axis.py\u001b[0m in \u001b[0;36m_get_tick_bboxes\u001b[0;34m(self, ticks, renderer)\u001b[0m\n\u001b[1;32m   1056\u001b[0m         \u001b[0;32mfor\u001b[0m \u001b[0mtick\u001b[0m \u001b[0;32min\u001b[0m \u001b[0mticks\u001b[0m\u001b[0;34m:\u001b[0m\u001b[0;34m\u001b[0m\u001b[0m\n\u001b[1;32m   1057\u001b[0m             \u001b[0;32mif\u001b[0m \u001b[0mtick\u001b[0m\u001b[0;34m.\u001b[0m\u001b[0mlabel1On\u001b[0m \u001b[0;32mand\u001b[0m \u001b[0mtick\u001b[0m\u001b[0;34m.\u001b[0m\u001b[0mlabel1\u001b[0m\u001b[0;34m.\u001b[0m\u001b[0mget_visible\u001b[0m\u001b[0;34m(\u001b[0m\u001b[0;34m)\u001b[0m\u001b[0;34m:\u001b[0m\u001b[0;34m\u001b[0m\u001b[0m\n\u001b[0;32m-> 1058\u001b[0;31m                 \u001b[0mextent\u001b[0m \u001b[0;34m=\u001b[0m \u001b[0mtick\u001b[0m\u001b[0;34m.\u001b[0m\u001b[0mlabel1\u001b[0m\u001b[0;34m.\u001b[0m\u001b[0mget_window_extent\u001b[0m\u001b[0;34m(\u001b[0m\u001b[0mrenderer\u001b[0m\u001b[0;34m)\u001b[0m\u001b[0;34m\u001b[0m\u001b[0m\n\u001b[0m\u001b[1;32m   1059\u001b[0m                 \u001b[0mticklabelBoxes\u001b[0m\u001b[0;34m.\u001b[0m\u001b[0mappend\u001b[0m\u001b[0;34m(\u001b[0m\u001b[0mextent\u001b[0m\u001b[0;34m)\u001b[0m\u001b[0;34m\u001b[0m\u001b[0m\n\u001b[1;32m   1060\u001b[0m             \u001b[0;32mif\u001b[0m \u001b[0mtick\u001b[0m\u001b[0;34m.\u001b[0m\u001b[0mlabel2On\u001b[0m \u001b[0;32mand\u001b[0m \u001b[0mtick\u001b[0m\u001b[0;34m.\u001b[0m\u001b[0mlabel2\u001b[0m\u001b[0;34m.\u001b[0m\u001b[0mget_visible\u001b[0m\u001b[0;34m(\u001b[0m\u001b[0;34m)\u001b[0m\u001b[0;34m:\u001b[0m\u001b[0;34m\u001b[0m\u001b[0m\n",
      "\u001b[0;32m/Users/sameera/mc/envs/py3k/lib/python3.4/site-packages/matplotlib/text.py\u001b[0m in \u001b[0;36mget_window_extent\u001b[0;34m(self, renderer, dpi)\u001b[0m\n\u001b[1;32m    941\u001b[0m             \u001b[0;32mraise\u001b[0m \u001b[0mRuntimeError\u001b[0m\u001b[0;34m(\u001b[0m\u001b[0;34m'Cannot get window extent w/o renderer'\u001b[0m\u001b[0;34m)\u001b[0m\u001b[0;34m\u001b[0m\u001b[0m\n\u001b[1;32m    942\u001b[0m \u001b[0;34m\u001b[0m\u001b[0m\n\u001b[0;32m--> 943\u001b[0;31m         \u001b[0mbbox\u001b[0m\u001b[0;34m,\u001b[0m \u001b[0minfo\u001b[0m\u001b[0;34m,\u001b[0m \u001b[0mdescent\u001b[0m \u001b[0;34m=\u001b[0m \u001b[0mself\u001b[0m\u001b[0;34m.\u001b[0m\u001b[0m_get_layout\u001b[0m\u001b[0;34m(\u001b[0m\u001b[0mself\u001b[0m\u001b[0;34m.\u001b[0m\u001b[0m_renderer\u001b[0m\u001b[0;34m)\u001b[0m\u001b[0;34m\u001b[0m\u001b[0m\n\u001b[0m\u001b[1;32m    944\u001b[0m         \u001b[0mx\u001b[0m\u001b[0;34m,\u001b[0m \u001b[0my\u001b[0m \u001b[0;34m=\u001b[0m \u001b[0mself\u001b[0m\u001b[0;34m.\u001b[0m\u001b[0mget_position\u001b[0m\u001b[0;34m(\u001b[0m\u001b[0;34m)\u001b[0m\u001b[0;34m\u001b[0m\u001b[0m\n\u001b[1;32m    945\u001b[0m         \u001b[0mx\u001b[0m\u001b[0;34m,\u001b[0m \u001b[0my\u001b[0m \u001b[0;34m=\u001b[0m \u001b[0mself\u001b[0m\u001b[0;34m.\u001b[0m\u001b[0mget_transform\u001b[0m\u001b[0;34m(\u001b[0m\u001b[0;34m)\u001b[0m\u001b[0;34m.\u001b[0m\u001b[0mtransform_point\u001b[0m\u001b[0;34m(\u001b[0m\u001b[0;34m(\u001b[0m\u001b[0mx\u001b[0m\u001b[0;34m,\u001b[0m \u001b[0my\u001b[0m\u001b[0;34m)\u001b[0m\u001b[0;34m)\u001b[0m\u001b[0;34m\u001b[0m\u001b[0m\n",
      "\u001b[0;32m/Users/sameera/mc/envs/py3k/lib/python3.4/site-packages/matplotlib/text.py\u001b[0m in \u001b[0;36m_get_layout\u001b[0;34m(self, renderer)\u001b[0m\n\u001b[1;32m    341\u001b[0m         tmp, lp_h, lp_bl = renderer.get_text_width_height_descent('lp',\n\u001b[1;32m    342\u001b[0m                                                          \u001b[0mself\u001b[0m\u001b[0;34m.\u001b[0m\u001b[0m_fontproperties\u001b[0m\u001b[0;34m,\u001b[0m\u001b[0;34m\u001b[0m\u001b[0m\n\u001b[0;32m--> 343\u001b[0;31m                                                          ismath=False)\n\u001b[0m\u001b[1;32m    344\u001b[0m         \u001b[0moffsety\u001b[0m \u001b[0;34m=\u001b[0m \u001b[0;34m(\u001b[0m\u001b[0mlp_h\u001b[0m \u001b[0;34m-\u001b[0m \u001b[0mlp_bl\u001b[0m\u001b[0;34m)\u001b[0m \u001b[0;34m*\u001b[0m \u001b[0mself\u001b[0m\u001b[0;34m.\u001b[0m\u001b[0m_linespacing\u001b[0m\u001b[0;34m\u001b[0m\u001b[0m\n\u001b[1;32m    345\u001b[0m \u001b[0;34m\u001b[0m\u001b[0m\n",
      "\u001b[0;32m/Users/sameera/mc/envs/py3k/lib/python3.4/site-packages/matplotlib/backends/backend_agg.py\u001b[0m in \u001b[0;36mget_text_width_height_descent\u001b[0;34m(self, s, prop, ismath)\u001b[0m\n\u001b[1;32m    228\u001b[0m             \u001b[0mfontsize\u001b[0m \u001b[0;34m=\u001b[0m \u001b[0mprop\u001b[0m\u001b[0;34m.\u001b[0m\u001b[0mget_size_in_points\u001b[0m\u001b[0;34m(\u001b[0m\u001b[0;34m)\u001b[0m\u001b[0;34m\u001b[0m\u001b[0m\n\u001b[1;32m    229\u001b[0m             w, h, d = texmanager.get_text_width_height_descent(s, fontsize,\n\u001b[0;32m--> 230\u001b[0;31m                                                                renderer=self)\n\u001b[0m\u001b[1;32m    231\u001b[0m             \u001b[0;32mreturn\u001b[0m \u001b[0mw\u001b[0m\u001b[0;34m,\u001b[0m \u001b[0mh\u001b[0m\u001b[0;34m,\u001b[0m \u001b[0md\u001b[0m\u001b[0;34m\u001b[0m\u001b[0m\n\u001b[1;32m    232\u001b[0m \u001b[0;34m\u001b[0m\u001b[0m\n",
      "\u001b[0;32m/Users/sameera/mc/envs/py3k/lib/python3.4/site-packages/matplotlib/texmanager.py\u001b[0m in \u001b[0;36mget_text_width_height_descent\u001b[0;34m(self, tex, fontsize, renderer)\u001b[0m\n\u001b[1;32m    668\u001b[0m         \u001b[0;32melse\u001b[0m\u001b[0;34m:\u001b[0m\u001b[0;34m\u001b[0m\u001b[0m\n\u001b[1;32m    669\u001b[0m             \u001b[0;31m# use dviread. It sometimes returns a wrong descent.\u001b[0m\u001b[0;34m\u001b[0m\u001b[0;34m\u001b[0m\u001b[0m\n\u001b[0;32m--> 670\u001b[0;31m             \u001b[0mdvifile\u001b[0m \u001b[0;34m=\u001b[0m \u001b[0mself\u001b[0m\u001b[0;34m.\u001b[0m\u001b[0mmake_dvi\u001b[0m\u001b[0;34m(\u001b[0m\u001b[0mtex\u001b[0m\u001b[0;34m,\u001b[0m \u001b[0mfontsize\u001b[0m\u001b[0;34m)\u001b[0m\u001b[0;34m\u001b[0m\u001b[0m\n\u001b[0m\u001b[1;32m    671\u001b[0m             \u001b[0mdvi\u001b[0m \u001b[0;34m=\u001b[0m \u001b[0mdviread\u001b[0m\u001b[0;34m.\u001b[0m\u001b[0mDvi\u001b[0m\u001b[0;34m(\u001b[0m\u001b[0mdvifile\u001b[0m\u001b[0;34m,\u001b[0m \u001b[0;36m72\u001b[0m \u001b[0;34m*\u001b[0m \u001b[0mdpi_fraction\u001b[0m\u001b[0;34m)\u001b[0m\u001b[0;34m\u001b[0m\u001b[0m\n\u001b[1;32m    672\u001b[0m             \u001b[0;32mtry\u001b[0m\u001b[0;34m:\u001b[0m\u001b[0;34m\u001b[0m\u001b[0m\n",
      "\u001b[0;32m/Users/sameera/mc/envs/py3k/lib/python3.4/site-packages/matplotlib/texmanager.py\u001b[0m in \u001b[0;36mmake_dvi\u001b[0;34m(self, tex, fontsize)\u001b[0m\n\u001b[1;32m    415\u001b[0m                      \u001b[0;34m'string:\\n%s\\nHere is the full report generated by '\u001b[0m\u001b[0;34m\u001b[0m\u001b[0m\n\u001b[1;32m    416\u001b[0m                      \u001b[0;34m'LaTeX: \\n\\n'\u001b[0m \u001b[0;34m%\u001b[0m \u001b[0mrepr\u001b[0m\u001b[0;34m(\u001b[0m\u001b[0mtex\u001b[0m\u001b[0;34m.\u001b[0m\u001b[0mencode\u001b[0m\u001b[0;34m(\u001b[0m\u001b[0;34m'unicode_escape'\u001b[0m\u001b[0;34m)\u001b[0m\u001b[0;34m)\u001b[0m \u001b[0;34m+\u001b[0m\u001b[0;34m\u001b[0m\u001b[0m\n\u001b[0;32m--> 417\u001b[0;31m                      report))\n\u001b[0m\u001b[1;32m    418\u001b[0m             \u001b[0;32melse\u001b[0m\u001b[0;34m:\u001b[0m\u001b[0;34m\u001b[0m\u001b[0m\n\u001b[1;32m    419\u001b[0m                 \u001b[0mmpl\u001b[0m\u001b[0;34m.\u001b[0m\u001b[0mverbose\u001b[0m\u001b[0;34m.\u001b[0m\u001b[0mreport\u001b[0m\u001b[0;34m(\u001b[0m\u001b[0mreport\u001b[0m\u001b[0;34m,\u001b[0m \u001b[0;34m'debug'\u001b[0m\u001b[0;34m)\u001b[0m\u001b[0;34m\u001b[0m\u001b[0m\n",
      "\u001b[0;31mRuntimeError\u001b[0m: LaTeX was not able to process the following string:\nb'lp'\nHere is the full report generated by LaTeX: \n\n"
     ]
    },
    {
     "name": "stderr",
     "output_type": "stream",
     "text": [
      "Traceback (most recent call last):\n",
      "  File \"/Users/sameera/mc/envs/py3k/lib/python3.4/site-packages/matplotlib/artist.py\", line 339, in hitlist\n",
      "    hascursor, info = self.contains(event)\n",
      "  File \"/Users/sameera/mc/envs/py3k/lib/python3.4/site-packages/matplotlib/text.py\", line 257, in contains\n",
      "    l, b, w, h = self.get_window_extent().bounds\n",
      "  File \"/Users/sameera/mc/envs/py3k/lib/python3.4/site-packages/matplotlib/text.py\", line 943, in get_window_extent\n",
      "    bbox, info, descent = self._get_layout(self._renderer)\n",
      "  File \"/Users/sameera/mc/envs/py3k/lib/python3.4/site-packages/matplotlib/text.py\", line 343, in _get_layout\n",
      "    ismath=False)\n",
      "  File \"/Users/sameera/mc/envs/py3k/lib/python3.4/site-packages/matplotlib/backends/backend_agg.py\", line 230, in get_text_width_height_descent\n",
      "    renderer=self)\n",
      "  File \"/Users/sameera/mc/envs/py3k/lib/python3.4/site-packages/matplotlib/texmanager.py\", line 670, in get_text_width_height_descent\n",
      "    dvifile = self.make_dvi(tex, fontsize)\n",
      "  File \"/Users/sameera/mc/envs/py3k/lib/python3.4/site-packages/matplotlib/texmanager.py\", line 417, in make_dvi\n",
      "    report))\n",
      "RuntimeError: LaTeX was not able to process the following string:\n",
      "b'lp'\n",
      "Here is the full report generated by LaTeX: \n",
      "\n",
      "\n",
      "Traceback (most recent call last):\n",
      "  File \"/Users/sameera/mc/envs/py3k/lib/python3.4/site-packages/matplotlib/artist.py\", line 339, in hitlist\n",
      "    hascursor, info = self.contains(event)\n",
      "  File \"/Users/sameera/mc/envs/py3k/lib/python3.4/site-packages/matplotlib/text.py\", line 257, in contains\n",
      "    l, b, w, h = self.get_window_extent().bounds\n",
      "  File \"/Users/sameera/mc/envs/py3k/lib/python3.4/site-packages/matplotlib/text.py\", line 943, in get_window_extent\n",
      "    bbox, info, descent = self._get_layout(self._renderer)\n",
      "  File \"/Users/sameera/mc/envs/py3k/lib/python3.4/site-packages/matplotlib/text.py\", line 343, in _get_layout\n",
      "    ismath=False)\n",
      "  File \"/Users/sameera/mc/envs/py3k/lib/python3.4/site-packages/matplotlib/backends/backend_agg.py\", line 230, in get_text_width_height_descent\n",
      "    renderer=self)\n",
      "  File \"/Users/sameera/mc/envs/py3k/lib/python3.4/site-packages/matplotlib/texmanager.py\", line 670, in get_text_width_height_descent\n",
      "    dvifile = self.make_dvi(tex, fontsize)\n",
      "  File \"/Users/sameera/mc/envs/py3k/lib/python3.4/site-packages/matplotlib/texmanager.py\", line 417, in make_dvi\n",
      "    report))\n",
      "RuntimeError: LaTeX was not able to process the following string:\n",
      "b'lp'\n",
      "Here is the full report generated by LaTeX: \n",
      "\n",
      "\n",
      "Traceback (most recent call last):\n",
      "  File \"/Users/sameera/mc/envs/py3k/lib/python3.4/site-packages/matplotlib/artist.py\", line 339, in hitlist\n",
      "    hascursor, info = self.contains(event)\n",
      "  File \"/Users/sameera/mc/envs/py3k/lib/python3.4/site-packages/matplotlib/text.py\", line 257, in contains\n",
      "    l, b, w, h = self.get_window_extent().bounds\n",
      "  File \"/Users/sameera/mc/envs/py3k/lib/python3.4/site-packages/matplotlib/text.py\", line 943, in get_window_extent\n",
      "    bbox, info, descent = self._get_layout(self._renderer)\n",
      "  File \"/Users/sameera/mc/envs/py3k/lib/python3.4/site-packages/matplotlib/text.py\", line 343, in _get_layout\n",
      "    ismath=False)\n",
      "  File \"/Users/sameera/mc/envs/py3k/lib/python3.4/site-packages/matplotlib/backends/backend_agg.py\", line 230, in get_text_width_height_descent\n",
      "    renderer=self)\n",
      "  File \"/Users/sameera/mc/envs/py3k/lib/python3.4/site-packages/matplotlib/texmanager.py\", line 670, in get_text_width_height_descent\n",
      "    dvifile = self.make_dvi(tex, fontsize)\n",
      "  File \"/Users/sameera/mc/envs/py3k/lib/python3.4/site-packages/matplotlib/texmanager.py\", line 417, in make_dvi\n",
      "    report))\n",
      "RuntimeError: LaTeX was not able to process the following string:\n",
      "b'lp'\n",
      "Here is the full report generated by LaTeX: \n",
      "\n",
      "\n",
      "Traceback (most recent call last):\n"
     ]
    },
    {
     "name": "stdout",
     "output_type": "stream",
     "text": [
      "while checking <class 'matplotlib.text.Text'>\n",
      "while checking <class 'matplotlib.text.Text'>\n",
      "while checking <class 'matplotlib.text.Text'>\n",
      "while checking"
     ]
    },
    {
     "name": "stderr",
     "output_type": "stream",
     "text": [
      "  File \"/Users/sameera/mc/envs/py3k/lib/python3.4/site-packages/matplotlib/artist.py\", line 339, in hitlist\n",
      "    hascursor, info = self.contains(event)\n",
      "  File \"/Users/sameera/mc/envs/py3k/lib/python3.4/site-packages/matplotlib/text.py\", line 257, in contains\n",
      "    l, b, w, h = self.get_window_extent().bounds\n",
      "  File \"/Users/sameera/mc/envs/py3k/lib/python3.4/site-packages/matplotlib/text.py\", line 943, in get_window_extent\n",
      "    bbox, info, descent = self._get_layout(self._renderer)\n",
      "  File \"/Users/sameera/mc/envs/py3k/lib/python3.4/site-packages/matplotlib/text.py\", line 343, in _get_layout\n",
      "    ismath=False)\n",
      "  File \"/Users/sameera/mc/envs/py3k/lib/python3.4/site-packages/matplotlib/backends/backend_agg.py\", line 230, in get_text_width_height_descent\n",
      "    renderer=self)\n",
      "  File \"/Users/sameera/mc/envs/py3k/lib/python3.4/site-packages/matplotlib/texmanager.py\", line 670, in get_text_width_height_descent\n",
      "    dvifile = self.make_dvi(tex, fontsize)\n",
      "  File \"/Users/sameera/mc/envs/py3k/lib/python3.4/site-packages/matplotlib/texmanager.py\", line 417, in make_dvi\n",
      "    report))\n",
      "RuntimeError: LaTeX was not able to process the following string:\n",
      "b'lp'\n",
      "Here is the full report generated by LaTeX: \n",
      "\n",
      "\n",
      "Traceback (most recent call last):\n",
      "  File \"/Users/sameera/mc/envs/py3k/lib/python3.4/site-packages/matplotlib/artist.py\", line 339, in hitlist\n",
      "    hascursor, info = self.contains(event)\n",
      "  File \"/Users/sameera/mc/envs/py3k/lib/python3.4/site-packages/matplotlib/text.py\", line 257, in contains\n",
      "    l, b, w, h = self.get_window_extent().bounds\n",
      "  File \"/Users/sameera/mc/envs/py3k/lib/python3.4/site-packages/matplotlib/text.py\", line 943, in get_window_extent\n",
      "    bbox, info, descent = self._get_layout(self._renderer)\n",
      "  File \"/Users/sameera/mc/envs/py3k/lib/python3.4/site-packages/matplotlib/text.py\", line 343, in _get_layout\n",
      "    ismath=False)\n",
      "  File \"/Users/sameera/mc/envs/py3k/lib/python3.4/site-packages/matplotlib/backends/backend_agg.py\", line 230, in get_text_width_height_descent\n",
      "    renderer=self)\n",
      "  File \"/Users/sameera/mc/envs/py3k/lib/python3.4/site-packages/matplotlib/texmanager.py\", line 670, in get_text_width_height_descent\n",
      "    dvifile = self.make_dvi(tex, fontsize)\n",
      "  File \"/Users/sameera/mc/envs/py3k/lib/python3.4/site-packages/matplotlib/texmanager.py\", line 417, in make_dvi\n",
      "    report))\n",
      "RuntimeError: LaTeX was not able to process the following string:\n",
      "b'lp'\n",
      "Here is the full report generated by LaTeX: \n",
      "\n",
      "\n",
      "Traceback (most recent call last):\n",
      "  File \"/Users/sameera/mc/envs/py3k/lib/python3.4/site-packages/matplotlib/artist.py\", line 339, in hitlist\n",
      "    hascursor, info = self.contains(event)\n",
      "  File \"/Users/sameera/mc/envs/py3k/lib/python3.4/site-packages/matplotlib/text.py\", line 257, in contains\n",
      "    l, b, w, h = self.get_window_extent().bounds\n",
      "  File \"/Users/sameera/mc/envs/py3k/lib/python3.4/site-packages/matplotlib/text.py\", line 943, in get_window_extent\n",
      "    bbox, info, descent = self._get_layout(self._renderer)\n",
      "  File \"/Users/sameera/mc/envs/py3k/lib/python3.4/site-packages/matplotlib/text.py\", line 343, in _get_layout\n",
      "    ismath=False)\n",
      "  File \"/Users/sameera/mc/envs/py3k/lib/python3.4/site-packages/matplotlib/backends/backend_agg.py\", line 230, in get_text_width_height_descent\n",
      "    renderer=self)\n",
      "  File \"/Users/sameera/mc/envs/py3k/lib/python3.4/site-packages/matplotlib/texmanager.py\", line 670, in get_text_width_height_descent\n",
      "    dvifile = self.make_dvi(tex, fontsize)\n",
      "  File \"/Users/sameera/mc/envs/py3k/lib/python3.4/site-packages/matplotlib/texmanager.py\", line 417, in make_dvi\n",
      "    report))\n",
      "RuntimeError: LaTeX was not able to process the following string:\n",
      "b'lp'\n",
      "Here is the full report generated by LaTeX: \n",
      "\n",
      "\n",
      "Traceback (most recent call last):\n",
      "  File \"/Users/sameera/mc/envs/py3k/lib/python3.4/site-packages/matplotlib/artist.py\", line 339, in hitlist\n",
      "    hascursor, info = self.contains(event)\n",
      "  File \"/Users/sameera/mc/envs/py3k/lib/python3.4/site-packages/matplotlib/text.py\", line 257, in contains\n",
      "    l, b, w, h = self.get_window_extent().bounds\n",
      "  File \"/Users/sameera/mc/envs/py3k/lib/python3.4/site-packages/matplotlib/text.py\", line 943, in get_window_extent\n",
      "    bbox, info, descent = self._get_layout(self._renderer)\n",
      "  File \"/Users/sameera/mc/envs/py3k/lib/python3.4/site-packages/matplotlib/text.py\", line 343, in _get_layout\n",
      "    ismath=False)\n",
      "  File \"/Users/sameera/mc/envs/py3k/lib/python3.4/site-packages/matplotlib/backends/backend_agg.py\", line 230, in get_text_width_height_descent\n",
      "    renderer=self)\n",
      "  File \"/Users/sameera/mc/envs/py3k/lib/python3.4/site-packages/matplotlib/texmanager.py\", line 670, in get_text_width_height_descent\n",
      "    dvifile = self.make_dvi(tex, fontsize)\n",
      "  File \"/Users/sameera/mc/envs/py3k/lib/python3.4/site-packages/matplotlib/texmanager.py\", line 417, in make_dvi\n",
      "    report))\n",
      "RuntimeError: LaTeX was not able to process the following string:\n",
      "b'lp'\n",
      "Here is the full report generated by LaTeX: \n",
      "\n",
      "\n",
      "Traceback (most recent call last):\n"
     ]
    },
    {
     "name": "stdout",
     "output_type": "stream",
     "text": [
      " <class 'matplotlib.text.Text'>\n",
      "while checking <class 'matplotlib.text.Text'>\n",
      "while checking <class 'matplotlib.text.Text'>\n",
      "while checking <class 'matplotlib.text.Text'>\n",
      "while checking"
     ]
    }
   ],
   "source": [
    "import numpy as np\n",
    "import matplotlib\n",
    "matplotlib.rcdefaults()\n",
    "\n",
    "# Set fancy LaTeX fonts\n",
    "matplotlib.rcParams['text.usetex'] = True\n",
    "matplotlib.rcParams['font.family'] = 'serif'\n",
    "matplotlib.rcParams['font.serif'] = 'Computer Modern Roman'\n",
    "\n",
    "from matplotlib import pyplot as plt\n",
    "\n",
    "# Set up very scientific data\n",
    "x = np.linspace(0, 0.28, num=500, endpoint=True)\n",
    "gaussian1 = np.exp(-x * x / (2.0 * 0.06 * 0.06))\n",
    "gaussian2 = np.exp(-(x - 0.14) * (x - 0.14) / (2.0 * 0.002 * 0.002))\n",
    "\n",
    "fig = plt.figure()\n",
    "ax = fig.add_subplot(1, 1, 1)\n",
    "\n",
    "ax.plot(x, gaussian1 + 3 * gaussian2)\n",
    "ax.set_xlim(0, 0.28)\n",
    "ax.set_yticklabels([])\n",
    "ax.set_xlabel(r'Blood alcohol concentration ($\\%$)')\n",
    "ax.set_ylabel(r'Programming skill')\n",
    "ax.set_title(r'The Ballmer peak')\n",
    "plt.show()"
   ]
  },
  {
   "cell_type": "code",
   "execution_count": 18,
   "metadata": {
    "collapsed": false
   },
   "outputs": [
    {
     "name": "stdout",
     "output_type": "stream",
     "text": [
      " <class 'matplotlib.text.Text'>\n"
     ]
    },
    {
     "name": "stderr",
     "output_type": "stream",
     "text": [
      "  File \"/Users/sameera/mc/envs/py3k/lib/python3.4/site-packages/matplotlib/artist.py\", line 339, in hitlist\n",
      "    hascursor, info = self.contains(event)\n",
      "  File \"/Users/sameera/mc/envs/py3k/lib/python3.4/site-packages/matplotlib/text.py\", line 257, in contains\n",
      "    l, b, w, h = self.get_window_extent().bounds\n",
      "  File \"/Users/sameera/mc/envs/py3k/lib/python3.4/site-packages/matplotlib/text.py\", line 943, in get_window_extent\n",
      "    bbox, info, descent = self._get_layout(self._renderer)\n",
      "  File \"/Users/sameera/mc/envs/py3k/lib/python3.4/site-packages/matplotlib/text.py\", line 343, in _get_layout\n",
      "    ismath=False)\n",
      "  File \"/Users/sameera/mc/envs/py3k/lib/python3.4/site-packages/matplotlib/backends/backend_agg.py\", line 230, in get_text_width_height_descent\n",
      "    renderer=self)\n",
      "  File \"/Users/sameera/mc/envs/py3k/lib/python3.4/site-packages/matplotlib/texmanager.py\", line 670, in get_text_width_height_descent\n",
      "    dvifile = self.make_dvi(tex, fontsize)\n",
      "  File \"/Users/sameera/mc/envs/py3k/lib/python3.4/site-packages/matplotlib/texmanager.py\", line 417, in make_dvi\n",
      "    report))\n",
      "RuntimeError: LaTeX was not able to process the following string:\n",
      "b'lp'\n",
      "Here is the full report generated by LaTeX: \n",
      "\n",
      "\n"
     ]
    }
   ],
   "source": [
    "import numpy as np\n",
    "import matplotlib\n",
    "matplotlib.rcdefaults()\n",
    "from matplotlib import pyplot as plt\n",
    "plt.xkcd()\n",
    "\n",
    "# Set up very scientific data\n",
    "x = np.linspace(0, 0.28, num=500, endpoint=True)\n",
    "gaussian1 = np.exp(-x * x / (2.0 * 0.06 * 0.06))\n",
    "gaussian2 = np.exp(-(x - 0.14) * (x - 0.14) / (2.0 * 0.002 * 0.002))\n",
    "\n",
    "fig = plt.figure()\n",
    "ax = fig.add_subplot(1, 1, 1)\n",
    "\n",
    "ax.plot(x, gaussian1 + 3 * gaussian2)\n",
    "ax.set_xlim(0, 0.28)\n",
    "ax.set_yticklabels([])\n",
    "ax.set_xlabel('Blood alcohol concentration (%)')\n",
    "ax.set_ylabel('Programming skill')\n",
    "ax.set_title('The Ballmer peak')\n",
    "plt.show()"
   ]
  },
  {
   "cell_type": "code",
   "execution_count": null,
   "metadata": {
    "collapsed": true
   },
   "outputs": [],
   "source": []
  }
 ],
 "metadata": {
  "kernelspec": {
   "display_name": "Python 3",
   "language": "python",
   "name": "python3"
  },
  "language_info": {
   "codemirror_mode": {
    "name": "ipython",
    "version": 3
   },
   "file_extension": ".py",
   "mimetype": "text/x-python",
   "name": "python",
   "nbconvert_exporter": "python",
   "pygments_lexer": "ipython3",
   "version": "3.4.3"
  }
 },
 "nbformat": 4,
 "nbformat_minor": 0
}
