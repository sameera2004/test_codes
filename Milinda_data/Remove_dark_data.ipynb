{
 "cells": [
  {
   "cell_type": "markdown",
   "metadata": {},
   "source": [
    "# Dark file subtraction"
   ]
  },
  {
   "cell_type": "code",
   "execution_count": 2,
   "metadata": {
    "collapsed": true
   },
   "outputs": [],
   "source": [
    "# This module will open .tiff files and do the dark file subtraction\n",
    "\n",
    "import numpy as np\n",
    "import fabio\n",
    "import glob\n",
    "import os, sys\n",
    "\n",
    "\n",
    "def load_tif(file):\n",
    "    \"\"\"\n",
    "    Parameters\n",
    "    ----------\n",
    "    file : string\n",
    "    Complete path to the file to be loaded into memory\n",
    "\n",
    "    Returns\n",
    "    -------\n",
    "    output: NxN ndarray\n",
    "    Returns a numpy array of the same data type as the original tiff file\n",
    "    \"\"\"\n",
    "    image = fabio.open(file)\n",
    "    image_data = image.data\n",
    "    return image_data\n",
    "\n",
    "def remove_dark(A):\n",
    "    \"\"\"\n",
    "    This function will subtract the dark files from the data files\n",
    "    Parameters\n",
    "    ----------\n",
    "    A : list\n",
    "        list of tiff files\n",
    "        \n",
    "    Returns\n",
    "    -------\n",
    "    clean_data : array\n",
    "        dark subtracted data , clean data\n",
    "        shape (number of clean images, detectore shape 0, detecotor shape 1)\n",
    "    \"\"\"\n",
    "    \n",
    "    clean_data = []  # save the cleaned data\n",
    "    \n",
    "    for name in A:\n",
    "        if \"dark\" in name:   # check the dark files\n",
    "            dark_data = load_tif(name)  \n",
    "            print (\"+++++ bad\" , name)\n",
    "        else:\n",
    "            arr = load_tif(name)\n",
    "            print (\"good\", name)\n",
    "            #  clean the data\n",
    "            clean_data.append(arr - dark_data)  \n",
    "    return np.asarray(clean_data)"
   ]
  },
  {
   "cell_type": "code",
   "execution_count": 3,
   "metadata": {
    "collapsed": false
   },
   "outputs": [],
   "source": [
    "data_dir = \"/Volumes/MILINDA/\"\n",
    "A = glob.glob(os.path.join(data_dir, \"*tiff\"))"
   ]
  },
  {
   "cell_type": "code",
   "execution_count": 4,
   "metadata": {
    "collapsed": false
   },
   "outputs": [
    {
     "data": {
      "text/plain": [
       "52"
      ]
     },
     "execution_count": 4,
     "metadata": {},
     "output_type": "execute_result"
    }
   ],
   "source": [
    "len(A)"
   ]
  },
  {
   "cell_type": "code",
   "execution_count": 5,
   "metadata": {
    "collapsed": false
   },
   "outputs": [
    {
     "name": "stdout",
     "output_type": "stream",
     "text": [
      "+++++ bad /Volumes/MILINDA/2016-02-05_22_26_dark_Ir0.99Pt0.01Te2_['Simon', 'Billinge']_['Chia Hao', 'Liu'].tiff\n",
      "good /Volumes/MILINDA/2016-02-05_22_05_Ir0.99Pt0.01Te2_['Simon', 'Billinge']_['Chia Hao', 'Liu']_199.93K.tiff\n",
      "good /Volumes/MILINDA/2016-02-05_22_05_Ir0.99Pt0.01Te2_['Simon', 'Billinge']_['Chia Hao', 'Liu']_194.62K.tiff\n",
      "good /Volumes/MILINDA/2016-02-05_22_05_Ir0.99Pt0.01Te2_['Simon', 'Billinge']_['Chia Hao', 'Liu']_189.01K.tiff\n",
      "good /Volumes/MILINDA/2016-02-05_22_05_Ir0.99Pt0.01Te2_['Simon', 'Billinge']_['Chia Hao', 'Liu']_183.45K.tiff\n",
      "good /Volumes/MILINDA/2016-02-05_22_05_Ir0.99Pt0.01Te2_['Simon', 'Billinge']_['Chia Hao', 'Liu']_177.87K.tiff\n",
      "good /Volumes/MILINDA/2016-02-05_22_05_Ir0.99Pt0.01Te2_['Simon', 'Billinge']_['Chia Hao', 'Liu']_172.32K.tiff\n",
      "good /Volumes/MILINDA/2016-02-05_22_05_Ir0.99Pt0.01Te2_['Simon', 'Billinge']_['Chia Hao', 'Liu']_166.77K.tiff\n",
      "good /Volumes/MILINDA/2016-02-05_22_05_Ir0.99Pt0.01Te2_['Simon', 'Billinge']_['Chia Hao', 'Liu']_161.22K.tiff\n",
      "good /Volumes/MILINDA/2016-02-05_22_05_Ir0.99Pt0.01Te2_['Simon', 'Billinge']_['Chia Hao', 'Liu']_155.67K.tiff\n",
      "good /Volumes/MILINDA/2016-02-05_22_05_Ir0.99Pt0.01Te2_['Simon', 'Billinge']_['Chia Hao', 'Liu']_150.12K.tiff\n",
      "+++++ bad /Volumes/MILINDA/2016-02-05_22_04_dark_Ir0.99Pt0.01Te2_['Simon', 'Billinge']_['Chia Hao', 'Liu'].tiff\n",
      "good /Volumes/MILINDA/2016-02-05_21_43_Ir0.99Pt0.01Te2_['Simon', 'Billinge']_['Chia Hao', 'Liu']_249.92K.tiff\n",
      "good /Volumes/MILINDA/2016-02-05_21_43_Ir0.99Pt0.01Te2_['Simon', 'Billinge']_['Chia Hao', 'Liu']_244.61K.tiff\n",
      "good /Volumes/MILINDA/2016-02-05_21_43_Ir0.99Pt0.01Te2_['Simon', 'Billinge']_['Chia Hao', 'Liu']_239.0K.tiff\n",
      "good /Volumes/MILINDA/2016-02-05_21_43_Ir0.99Pt0.01Te2_['Simon', 'Billinge']_['Chia Hao', 'Liu']_233.43K.tiff\n",
      "good /Volumes/MILINDA/2016-02-05_21_43_Ir0.99Pt0.01Te2_['Simon', 'Billinge']_['Chia Hao', 'Liu']_227.86K.tiff\n",
      "good /Volumes/MILINDA/2016-02-05_21_43_Ir0.99Pt0.01Te2_['Simon', 'Billinge']_['Chia Hao', 'Liu']_222.34K.tiff\n",
      "good /Volumes/MILINDA/2016-02-05_21_43_Ir0.99Pt0.01Te2_['Simon', 'Billinge']_['Chia Hao', 'Liu']_216.74K.tiff\n",
      "good /Volumes/MILINDA/2016-02-05_21_43_Ir0.99Pt0.01Te2_['Simon', 'Billinge']_['Chia Hao', 'Liu']_211.22K.tiff\n",
      "good /Volumes/MILINDA/2016-02-05_21_43_Ir0.99Pt0.01Te2_['Simon', 'Billinge']_['Chia Hao', 'Liu']_205.67K.tiff\n",
      "good /Volumes/MILINDA/2016-02-05_21_43_Ir0.99Pt0.01Te2_['Simon', 'Billinge']_['Chia Hao', 'Liu']_200.1K.tiff\n",
      "+++++ bad /Volumes/MILINDA/2016-02-05_21_42_dark_Ir0.99Pt0.01Te2_['Simon', 'Billinge']_['Chia Hao', 'Liu'].tiff\n",
      "good /Volumes/MILINDA/2016-02-05_21_20_Ir0.99Pt0.01Te2_['Simon', 'Billinge']_['Chia Hao', 'Liu']_289.06K.tiff\n",
      "good /Volumes/MILINDA/2016-02-05_21_20_Ir0.99Pt0.01Te2_['Simon', 'Billinge']_['Chia Hao', 'Liu']_283.45K.tiff\n",
      "good /Volumes/MILINDA/2016-02-05_21_20_Ir0.99Pt0.01Te2_['Simon', 'Billinge']_['Chia Hao', 'Liu']_277.86K.tiff\n",
      "good /Volumes/MILINDA/2016-02-05_21_20_Ir0.99Pt0.01Te2_['Simon', 'Billinge']_['Chia Hao', 'Liu']_272.33K.tiff\n",
      "good /Volumes/MILINDA/2016-02-05_21_20_Ir0.99Pt0.01Te2_['Simon', 'Billinge']_['Chia Hao', 'Liu']_266.81K.tiff\n",
      "good /Volumes/MILINDA/2016-02-05_21_20_Ir0.99Pt0.01Te2_['Simon', 'Billinge']_['Chia Hao', 'Liu']_261.23K.tiff\n",
      "good /Volumes/MILINDA/2016-02-05_21_20_Ir0.99Pt0.01Te2_['Simon', 'Billinge']_['Chia Hao', 'Liu']_255.67K.tiff\n",
      "good /Volumes/MILINDA/2016-02-05_21_20_Ir0.99Pt0.01Te2_['Simon', 'Billinge']_['Chia Hao', 'Liu']_250.12K.tiff\n",
      "good /Volumes/MILINDA/2016-02-05_21_20_Ir0.99Pt0.01Te2_['Simon', 'Billinge']_['Chia Hao', 'Liu']_300.02K.tiff\n",
      "good /Volumes/MILINDA/2016-02-05_21_20_Ir0.99Pt0.01Te2_['Simon', 'Billinge']_['Chia Hao', 'Liu']_294.68K.tiff\n",
      "+++++ bad /Volumes/MILINDA/2016-02-05_21_19_dark_Ir0.99Pt0.01Te2_['Simon', 'Billinge']_['Chia Hao', 'Liu'].tiff\n",
      "+++++ bad /Volumes/MILINDA/2016-02-05_19_59_dark_LaB6.tiff\n",
      "good /Volumes/MILINDA/2016-02-05_20_00_LaB6.tiff\n",
      "+++++ bad /Volumes/MILINDA/2016-02-05_23_53_dark_Ir0.99Pt0.01Te2_['Simon', 'Billinge']_['Chia Hao', 'Liu'].tiff\n",
      "+++++ bad /Volumes/MILINDA/2016-02-05_23_36_dark_Ir0.99Pt0.01Te2_['Simon', 'Billinge']_['Chia Hao', 'Liu'].tiff\n",
      "good /Volumes/MILINDA/2016-02-05_22_27_Ir0.99Pt0.01Te2_['Simon', 'Billinge']_['Chia Hao', 'Liu']_149.94K.tiff\n",
      "good /Volumes/MILINDA/2016-02-05_22_27_Ir0.99Pt0.01Te2_['Simon', 'Billinge']_['Chia Hao', 'Liu']_144.81K.tiff\n",
      "good /Volumes/MILINDA/2016-02-05_22_27_Ir0.99Pt0.01Te2_['Simon', 'Billinge']_['Chia Hao', 'Liu']_139.39K.tiff\n",
      "good /Volumes/MILINDA/2016-02-05_22_27_Ir0.99Pt0.01Te2_['Simon', 'Billinge']_['Chia Hao', 'Liu']_133.99K.tiff\n",
      "good /Volumes/MILINDA/2016-02-05_22_27_Ir0.99Pt0.01Te2_['Simon', 'Billinge']_['Chia Hao', 'Liu']_128.61K.tiff\n",
      "good /Volumes/MILINDA/2016-02-05_22_27_Ir0.99Pt0.01Te2_['Simon', 'Billinge']_['Chia Hao', 'Liu']_123.25K.tiff\n",
      "good /Volumes/MILINDA/2016-02-05_22_27_Ir0.99Pt0.01Te2_['Simon', 'Billinge']_['Chia Hao', 'Liu']_117.93K.tiff\n",
      "good /Volumes/MILINDA/2016-02-05_22_27_Ir0.99Pt0.01Te2_['Simon', 'Billinge']_['Chia Hao', 'Liu']_112.63K.tiff\n",
      "good /Volumes/MILINDA/2016-02-05_22_27_Ir0.99Pt0.01Te2_['Simon', 'Billinge']_['Chia Hao', 'Liu']_107.36K.tiff\n",
      "good /Volumes/MILINDA/2016-02-05_22_27_Ir0.99Pt0.01Te2_['Simon', 'Billinge']_['Chia Hao', 'Liu']_101.99K.tiff\n",
      "good /Volumes/MILINDA/2016-02-05_22_27_Ir0.99Pt0.01Te2_['Simon', 'Billinge']_['Chia Hao', 'Liu']_96.64K.tiff\n",
      "good /Volumes/MILINDA/2016-02-05_22_27_Ir0.99Pt0.01Te2_['Simon', 'Billinge']_['Chia Hao', 'Liu']_91.26K.tiff\n",
      "good /Volumes/MILINDA/2016-02-05_22_27_Ir0.99Pt0.01Te2_['Simon', 'Billinge']_['Chia Hao', 'Liu']_85.88K.tiff\n",
      "good /Volumes/MILINDA/2016-02-05_22_27_Ir0.99Pt0.01Te2_['Simon', 'Billinge']_['Chia Hao', 'Liu']_80.49K.tiff\n"
     ]
    }
   ],
   "source": [
    "clean_data = remove_dark(A)"
   ]
  },
  {
   "cell_type": "code",
   "execution_count": 6,
   "metadata": {
    "collapsed": false
   },
   "outputs": [
    {
     "data": {
      "text/plain": [
       "(45, 2048, 2048)"
      ]
     },
     "execution_count": 6,
     "metadata": {},
     "output_type": "execute_result"
    }
   ],
   "source": [
    "clean_data.shape"
   ]
  },
  {
   "cell_type": "code",
   "execution_count": 7,
   "metadata": {
    "collapsed": true
   },
   "outputs": [],
   "source": [
    "import matplotlib.pyplot as plt\n",
    "%matplotlib inline"
   ]
  },
  {
   "cell_type": "code",
   "execution_count": 8,
   "metadata": {
    "collapsed": false
   },
   "outputs": [
    {
     "data": {
      "text/plain": [
       "<matplotlib.image.AxesImage at 0x1085b5080>"
      ]
     },
     "execution_count": 8,
     "metadata": {},
     "output_type": "execute_result"
    },
    {
     "data": {
      "image/png": "[encoded data removed]",
      "text/plain": [
       "<matplotlib.figure.Figure at 0x1085b5048>"
      ]
     },
     "metadata": {},
     "output_type": "display_data"
    }
   ],
   "source": [
    "fig = plt.subplot()\n",
    "plt.imshow(clean_data[0])"
   ]
  },
  {
   "cell_type": "code",
   "execution_count": null,
   "metadata": {
    "collapsed": true
   },
   "outputs": [],
   "source": []
  }
 ],
 "metadata": {
  "kernelspec": {
   "display_name": "Python 3",
   "language": "python",
   "name": "python3"
  },
  "language_info": {
   "codemirror_mode": {
    "name": "ipython",
    "version": 3
   },
   "file_extension": ".py",
   "mimetype": "text/x-python",
   "name": "python",
   "nbconvert_exporter": "python",
   "pygments_lexer": "ipython3",
   "version": "3.4.4"
  }
 },
 "nbformat": 4,
 "nbformat_minor": 0
}
