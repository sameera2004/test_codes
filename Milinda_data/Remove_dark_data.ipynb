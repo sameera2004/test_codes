{
 "cells": [
  {
   "cell_type": "markdown",
   "metadata": {},
   "source": [
    "# Dark file subtraction"
   ]
  },
  {
   "cell_type": "code",
   "execution_count": 1,
   "metadata": {
    "collapsed": false
   },
   "outputs": [],
   "source": [
    "-"
   ]
  },
  {
   "cell_type": "code",
   "execution_count": 2,
   "metadata": {
    "collapsed": false
   },
   "outputs": [
    {
     "name": "stdout",
     "output_type": "stream",
     "text": [
      "Users/sameera/Desktop/tiff_files/clean_data/ty\n"
     ]
    }
   ],
   "source": [
    "name= \"ty\"\n",
    "\n",
    "print (os.path.join(\"Users/sameera/Desktop/tiff_files/clean_data\", name))"
   ]
  },
  {
   "cell_type": "code",
   "execution_count": 3,
   "metadata": {
    "collapsed": false
   },
   "outputs": [],
   "source": [
    "data_dir = \"/Users/sameera/Desktop/tiff_files/new2/\"\n",
    "A = glob.glob(os.path.join(data_dir, \"*tiff\"))"
   ]
  },
  {
   "cell_type": "code",
   "execution_count": 4,
   "metadata": {
    "collapsed": false
   },
   "outputs": [
    {
     "data": {
      "text/plain": [
       "24"
      ]
     },
     "execution_count": 4,
     "metadata": {},
     "output_type": "execute_result"
    }
   ],
   "source": [
    "len(A)"
   ]
  },
  {
   "cell_type": "code",
   "execution_count": 5,
   "metadata": {
    "collapsed": false
   },
   "outputs": [],
   "source": [
    "#cd \"/Users/sameera/Desktop/tiff_files/clean_data/\""
   ]
  },
  {
   "cell_type": "code",
   "execution_count": 6,
   "metadata": {
    "collapsed": false
   },
   "outputs": [
    {
     "name": "stdout",
     "output_type": "stream",
     "text": [
      "+++++ bad /Users/sameera/Desktop/tiff_files/new2/2016-02-05_19:59_dark_LaB6.tiff\n",
      "good /Users/sameera/Desktop/tiff_files/new2/2016-02-05_20:00_LaB6.tiff\n",
      "+++++ bad /Users/sameera/Desktop/tiff_files/new2/2016-02-05_21:19_dark_Ir0.99Pt0.01Te2_['Simon', 'Billinge']_['Chia Hao', 'Liu'].tiff\n",
      "good /Users/sameera/Desktop/tiff_files/new2/2016-02-05_21:20_Ir0.99Pt0.01Te2_['Simon', 'Billinge']_['Chia Hao', 'Liu']_250.12K.tiff\n",
      "good /Users/sameera/Desktop/tiff_files/new2/2016-02-05_21:20_Ir0.99Pt0.01Te2_['Simon', 'Billinge']_['Chia Hao', 'Liu']_255.67K.tiff\n",
      "good /Users/sameera/Desktop/tiff_files/new2/2016-02-05_21:20_Ir0.99Pt0.01Te2_['Simon', 'Billinge']_['Chia Hao', 'Liu']_261.23K.tiff\n",
      "good /Users/sameera/Desktop/tiff_files/new2/2016-02-05_21:20_Ir0.99Pt0.01Te2_['Simon', 'Billinge']_['Chia Hao', 'Liu']_266.81K.tiff\n",
      "good /Users/sameera/Desktop/tiff_files/new2/2016-02-05_21:20_Ir0.99Pt0.01Te2_['Simon', 'Billinge']_['Chia Hao', 'Liu']_272.33K.tiff\n",
      "good /Users/sameera/Desktop/tiff_files/new2/2016-02-05_21:20_Ir0.99Pt0.01Te2_['Simon', 'Billinge']_['Chia Hao', 'Liu']_277.86K.tiff\n",
      "good /Users/sameera/Desktop/tiff_files/new2/2016-02-05_21:20_Ir0.99Pt0.01Te2_['Simon', 'Billinge']_['Chia Hao', 'Liu']_283.45K.tiff\n",
      "good /Users/sameera/Desktop/tiff_files/new2/2016-02-05_21:20_Ir0.99Pt0.01Te2_['Simon', 'Billinge']_['Chia Hao', 'Liu']_289.06K.tiff\n",
      "good /Users/sameera/Desktop/tiff_files/new2/2016-02-05_21:20_Ir0.99Pt0.01Te2_['Simon', 'Billinge']_['Chia Hao', 'Liu']_294.68K.tiff\n",
      "good /Users/sameera/Desktop/tiff_files/new2/2016-02-05_21:20_Ir0.99Pt0.01Te2_['Simon', 'Billinge']_['Chia Hao', 'Liu']_300.02K.tiff\n",
      "+++++ bad /Users/sameera/Desktop/tiff_files/new2/2016-02-05_21:42_dark_Ir0.99Pt0.01Te2_['Simon', 'Billinge']_['Chia Hao', 'Liu'].tiff\n",
      "good /Users/sameera/Desktop/tiff_files/new2/2016-02-05_21:43_Ir0.99Pt0.01Te2_['Simon', 'Billinge']_['Chia Hao', 'Liu']_200.1K.tiff\n",
      "good /Users/sameera/Desktop/tiff_files/new2/2016-02-05_21:43_Ir0.99Pt0.01Te2_['Simon', 'Billinge']_['Chia Hao', 'Liu']_205.67K.tiff\n",
      "good /Users/sameera/Desktop/tiff_files/new2/2016-02-05_21:43_Ir0.99Pt0.01Te2_['Simon', 'Billinge']_['Chia Hao', 'Liu']_211.22K.tiff\n",
      "good /Users/sameera/Desktop/tiff_files/new2/2016-02-05_21:43_Ir0.99Pt0.01Te2_['Simon', 'Billinge']_['Chia Hao', 'Liu']_216.74K.tiff\n",
      "good /Users/sameera/Desktop/tiff_files/new2/2016-02-05_21:43_Ir0.99Pt0.01Te2_['Simon', 'Billinge']_['Chia Hao', 'Liu']_222.34K.tiff\n",
      "good /Users/sameera/Desktop/tiff_files/new2/2016-02-05_21:43_Ir0.99Pt0.01Te2_['Simon', 'Billinge']_['Chia Hao', 'Liu']_227.86K.tiff\n",
      "good /Users/sameera/Desktop/tiff_files/new2/2016-02-05_21:43_Ir0.99Pt0.01Te2_['Simon', 'Billinge']_['Chia Hao', 'Liu']_233.43K.tiff\n",
      "good /Users/sameera/Desktop/tiff_files/new2/2016-02-05_21:43_Ir0.99Pt0.01Te2_['Simon', 'Billinge']_['Chia Hao', 'Liu']_239.0K.tiff\n",
      "good /Users/sameera/Desktop/tiff_files/new2/2016-02-05_21:43_Ir0.99Pt0.01Te2_['Simon', 'Billinge']_['Chia Hao', 'Liu']_244.61K.tiff\n",
      "good /Users/sameera/Desktop/tiff_files/new2/2016-02-05_21:43_Ir0.99Pt0.01Te2_['Simon', 'Billinge']_['Chia Hao', 'Liu']_249.92K.tiff\n"
     ]
    }
   ],
   "source": [
    "clean_data = remove_dark(A, \"Users/sameera/Desktop/tiff_files/clean_data/ \")"
   ]
  },
  {
   "cell_type": "code",
   "execution_count": 7,
   "metadata": {
    "collapsed": false
   },
   "outputs": [
    {
     "data": {
      "text/plain": [
       "21"
      ]
     },
     "execution_count": 7,
     "metadata": {},
     "output_type": "execute_result"
    }
   ],
   "source": [
    "clean_data.shape[0]"
   ]
  },
  {
   "cell_type": "code",
   "execution_count": 8,
   "metadata": {
    "collapsed": true
   },
   "outputs": [],
   "source": [
    "import matplotlib.pyplot as plt\n",
    "%matplotlib inline"
   ]
  },
  {
   "cell_type": "code",
   "execution_count": 9,
   "metadata": {
    "collapsed": false
   },
   "outputs": [
    {
     "data": {
      "text/plain": [
       "<matplotlib.image.AxesImage at 0x107a41630>"
      ]
     },
     "execution_count": 9,
     "metadata": {},
     "output_type": "execute_result"
    },
    {
     "data": {
      "image/png": "[encoded data removed]",
      "text/plain": [
       "<matplotlib.figure.Figure at 0x1079a7a90>"
      ]
     },
     "metadata": {},
     "output_type": "display_data"
    }
   ],
   "source": [
    "fig = plt.subplot()\n",
    "plt.imshow(clean_data[5])"
   ]
  },
  {
   "cell_type": "code",
   "execution_count": 10,
   "metadata": {
    "collapsed": false
   },
   "outputs": [
    {
     "data": {
      "image/png": "[encoded data removed]",
      "text/plain": [
       "<matplotlib.figure.Figure at 0x107a8a1d0>"
      ]
     },
     "metadata": {},
     "output_type": "display_data"
    }
   ],
   "source": [
    "plt.imshow(clean_data[10], vmin=0, vmax=5000)\n",
    "plt.show()"
   ]
  },
  {
   "cell_type": "code",
   "execution_count": 11,
   "metadata": {
    "collapsed": false
   },
   "outputs": [
    {
     "data": {
      "image/png": "[encoded data removed]",
      "text/plain": [
       "<matplotlib.figure.Figure at 0x10aa5e2e8>"
      ]
     },
     "metadata": {},
     "output_type": "display_data"
    },
    {
     "data": {
      "text/plain": [
       "<function __main__.view_image>"
      ]
     },
     "execution_count": 11,
     "metadata": {},
     "output_type": "execute_result"
    }
   ],
   "source": [
    "from ipywidgets import interact\n",
    "from matplotlib.colors import LogNorm\n",
    "import matplotlib.pyplot as plt\n",
    "import glob\n",
    "\n",
    "A = glob.glob(os.path.join(data_dir, \"*tiff\"))\n",
    "Data = imread(A)\n",
    "\n",
    "def view_image(i):\n",
    "    fig, ax = plt.subplots()\n",
    "    ax.imshow(Data[i], interpolation='nearest', \n",
    "                  origin='lower', norm= LogNorm(vmin=0.1, vmax=4000) )\n",
    "    ax.set_title(\"Browse the Image Stack\")\n",
    "    plt.show()\n",
    "    \n",
    "interact(view_image, i=(0, Data.shape[0]-1))\n"
   ]
  },
  {
   "cell_type": "code",
   "execution_count": 12,
   "metadata": {
    "collapsed": false
   },
   "outputs": [
    {
     "data": {
      "text/plain": [
       "'/Users/sameera/Desktop/tiff_files/new2/2016-02-05_19:59_dark_LaB6.tiff'"
      ]
     },
     "execution_count": 12,
     "metadata": {},
     "output_type": "execute_result"
    }
   ],
   "source": [
    "A[0]"
   ]
  },
  {
   "cell_type": "code",
   "execution_count": 13,
   "metadata": {
    "collapsed": true
   },
   "outputs": [],
   "source": [
    "yu= imread(A[3])"
   ]
  },
  {
   "cell_type": "code",
   "execution_count": 14,
   "metadata": {
    "collapsed": false
   },
   "outputs": [
    {
     "data": {
      "text/plain": [
       "(2048, 2048)"
      ]
     },
     "execution_count": 14,
     "metadata": {},
     "output_type": "execute_result"
    }
   ],
   "source": [
    "yu.shape"
   ]
  },
  {
   "cell_type": "code",
   "execution_count": 15,
   "metadata": {
    "collapsed": false
   },
   "outputs": [
    {
     "data": {
      "image/png": "[encoded data removed]",
      "text/plain": [
       "<matplotlib.figure.Figure at 0x10aa20a20>"
      ]
     },
     "metadata": {},
     "output_type": "display_data"
    }
   ],
   "source": [
    "fig = plt.subplot()\n",
    "plt.imshow(yu, vmin=0.01, vmax=4000)\n",
    "plt.show()"
   ]
  },
  {
   "cell_type": "code",
   "execution_count": null,
   "metadata": {
    "collapsed": true
   },
   "outputs": [],
   "source": []
  }
 ],
 "metadata": {
  "kernelspec": {
   "display_name": "Python 3",
   "language": "python",
   "name": "python3"
  },
  "language_info": {
   "codemirror_mode": {
    "name": "ipython",
    "version": 3
   },
   "file_extension": ".py",
   "mimetype": "text/x-python",
   "name": "python",
   "nbconvert_exporter": "python",
   "pygments_lexer": "ipython3",
   "version": "3.4.4"
  }
 },
 "nbformat": 4,
 "nbformat_minor": 0
}
